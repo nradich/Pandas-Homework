{
 "cells": [
  {
   "cell_type": "markdown",
   "metadata": {},
   "source": [
    "# Trends:\n",
    "\n",
    "-The percentage of students passing the reading exam, compared to the math exam, was higher for all schools. This could signify that the school district as a whole has a stronger reading circulum or that students find reading as an easier subject.\n",
    "\n",
    "-In looking at the math scores by grade, there does not appear to be an increase in scores from the 9th grade to the 12th grade despite seniors having more years of schooling. \n"
   ]
  },
  {
   "cell_type": "code",
   "execution_count": 1,
   "metadata": {},
   "outputs": [],
   "source": [
    "import pandas as pd\n",
    "import numpy as np"
   ]
  },
  {
   "cell_type": "code",
   "execution_count": 2,
   "metadata": {},
   "outputs": [],
   "source": [
    "#Loading CSV documents\n",
    "school_file = 'Resources/schools_complete.csv'\n",
    "student_file = 'Resources/students_complete.csv'"
   ]
  },
  {
   "cell_type": "code",
   "execution_count": 3,
   "metadata": {},
   "outputs": [],
   "source": [
    "#Reading CSV Files\n",
    "school = pd.read_csv(school_file)\n",
    "students = pd.read_csv(student_file)"
   ]
  },
  {
   "cell_type": "code",
   "execution_count": 4,
   "metadata": {},
   "outputs": [],
   "source": [
    "datadf = pd.merge(students, school, how =\"left\", on = ['school_name','school_name'])"
   ]
  },
  {
   "cell_type": "code",
   "execution_count": 5,
   "metadata": {
    "scrolled": false
   },
   "outputs": [
    {
     "data": {
      "text/html": [
       "<div>\n",
       "<style scoped>\n",
       "    .dataframe tbody tr th:only-of-type {\n",
       "        vertical-align: middle;\n",
       "    }\n",
       "\n",
       "    .dataframe tbody tr th {\n",
       "        vertical-align: top;\n",
       "    }\n",
       "\n",
       "    .dataframe thead th {\n",
       "        text-align: right;\n",
       "    }\n",
       "</style>\n",
       "<table border=\"1\" class=\"dataframe\">\n",
       "  <thead>\n",
       "    <tr style=\"text-align: right;\">\n",
       "      <th></th>\n",
       "      <th>Student ID</th>\n",
       "      <th>student_name</th>\n",
       "      <th>gender</th>\n",
       "      <th>grade</th>\n",
       "      <th>school_name</th>\n",
       "      <th>reading_score</th>\n",
       "      <th>math_score</th>\n",
       "      <th>School ID</th>\n",
       "      <th>type</th>\n",
       "      <th>size</th>\n",
       "      <th>budget</th>\n",
       "    </tr>\n",
       "  </thead>\n",
       "  <tbody>\n",
       "    <tr>\n",
       "      <th>0</th>\n",
       "      <td>0</td>\n",
       "      <td>Paul Bradley</td>\n",
       "      <td>M</td>\n",
       "      <td>9th</td>\n",
       "      <td>Huang High School</td>\n",
       "      <td>66</td>\n",
       "      <td>79</td>\n",
       "      <td>0</td>\n",
       "      <td>District</td>\n",
       "      <td>2917</td>\n",
       "      <td>1910635</td>\n",
       "    </tr>\n",
       "    <tr>\n",
       "      <th>1</th>\n",
       "      <td>1</td>\n",
       "      <td>Victor Smith</td>\n",
       "      <td>M</td>\n",
       "      <td>12th</td>\n",
       "      <td>Huang High School</td>\n",
       "      <td>94</td>\n",
       "      <td>61</td>\n",
       "      <td>0</td>\n",
       "      <td>District</td>\n",
       "      <td>2917</td>\n",
       "      <td>1910635</td>\n",
       "    </tr>\n",
       "    <tr>\n",
       "      <th>2</th>\n",
       "      <td>2</td>\n",
       "      <td>Kevin Rodriguez</td>\n",
       "      <td>M</td>\n",
       "      <td>12th</td>\n",
       "      <td>Huang High School</td>\n",
       "      <td>90</td>\n",
       "      <td>60</td>\n",
       "      <td>0</td>\n",
       "      <td>District</td>\n",
       "      <td>2917</td>\n",
       "      <td>1910635</td>\n",
       "    </tr>\n",
       "    <tr>\n",
       "      <th>3</th>\n",
       "      <td>3</td>\n",
       "      <td>Dr. Richard Scott</td>\n",
       "      <td>M</td>\n",
       "      <td>12th</td>\n",
       "      <td>Huang High School</td>\n",
       "      <td>67</td>\n",
       "      <td>58</td>\n",
       "      <td>0</td>\n",
       "      <td>District</td>\n",
       "      <td>2917</td>\n",
       "      <td>1910635</td>\n",
       "    </tr>\n",
       "    <tr>\n",
       "      <th>4</th>\n",
       "      <td>4</td>\n",
       "      <td>Bonnie Ray</td>\n",
       "      <td>F</td>\n",
       "      <td>9th</td>\n",
       "      <td>Huang High School</td>\n",
       "      <td>97</td>\n",
       "      <td>84</td>\n",
       "      <td>0</td>\n",
       "      <td>District</td>\n",
       "      <td>2917</td>\n",
       "      <td>1910635</td>\n",
       "    </tr>\n",
       "  </tbody>\n",
       "</table>\n",
       "</div>"
      ],
      "text/plain": [
       "   Student ID       student_name gender grade        school_name  \\\n",
       "0           0       Paul Bradley      M   9th  Huang High School   \n",
       "1           1       Victor Smith      M  12th  Huang High School   \n",
       "2           2    Kevin Rodriguez      M  12th  Huang High School   \n",
       "3           3  Dr. Richard Scott      M  12th  Huang High School   \n",
       "4           4         Bonnie Ray      F   9th  Huang High School   \n",
       "\n",
       "   reading_score  math_score  School ID      type  size   budget  \n",
       "0             66          79          0  District  2917  1910635  \n",
       "1             94          61          0  District  2917  1910635  \n",
       "2             90          60          0  District  2917  1910635  \n",
       "3             67          58          0  District  2917  1910635  \n",
       "4             97          84          0  District  2917  1910635  "
      ]
     },
     "execution_count": 5,
     "metadata": {},
     "output_type": "execute_result"
    }
   ],
   "source": [
    "# Data Data Frame\n",
    "datadf.head()"
   ]
  },
  {
   "cell_type": "markdown",
   "metadata": {},
   "source": [
    "# District Summary for homework"
   ]
  },
  {
   "cell_type": "code",
   "execution_count": 6,
   "metadata": {},
   "outputs": [
    {
     "data": {
      "text/plain": [
       "15"
      ]
     },
     "execution_count": 6,
     "metadata": {},
     "output_type": "execute_result"
    }
   ],
   "source": [
    "#Number of Schools\n",
    "num_of_schools = len(datadf['school_name'].unique())\n",
    "num_of_schools"
   ]
  },
  {
   "cell_type": "code",
   "execution_count": 7,
   "metadata": {},
   "outputs": [],
   "source": [
    "#Grouping all of the schools together\n",
    "schoolgroups = datadf.groupby('school_name')\n",
    "\n"
   ]
  },
  {
   "cell_type": "code",
   "execution_count": 8,
   "metadata": {},
   "outputs": [
    {
     "data": {
      "text/plain": [
       "39170"
      ]
     },
     "execution_count": 8,
     "metadata": {},
     "output_type": "execute_result"
    }
   ],
   "source": [
    "#Number of Students\n",
    "number_of_students = datadf[\"student_name\"].count()\n",
    "number_of_students"
   ]
  },
  {
   "cell_type": "code",
   "execution_count": 9,
   "metadata": {},
   "outputs": [],
   "source": [
    "#Total Budget\n",
    "#Dropped duplicate data so I could add singular budgets together\n",
    "datadrop = datadf.drop_duplicates('school_name')\n",
    "\n",
    "totalbudget = datadrop['budget'].sum()\n",
    "#can use data drop to get average per student and type of school\n",
    "#datadrop[['school_name', 'type']]\n"
   ]
  },
  {
   "cell_type": "code",
   "execution_count": 10,
   "metadata": {},
   "outputs": [
    {
     "data": {
      "text/plain": [
       "78.98537145774827"
      ]
     },
     "execution_count": 10,
     "metadata": {},
     "output_type": "execute_result"
    }
   ],
   "source": [
    "#Average Math Score\n",
    "avg_math_score = datadf['math_score'].mean()\n",
    "\n",
    "avg_math_score"
   ]
  },
  {
   "cell_type": "code",
   "execution_count": 11,
   "metadata": {},
   "outputs": [
    {
     "data": {
      "text/plain": [
       "81.87784018381414"
      ]
     },
     "execution_count": 11,
     "metadata": {},
     "output_type": "execute_result"
    }
   ],
   "source": [
    "#Average Reading Score\n",
    "avg_reading_score = datadf['reading_score'].mean()\n",
    "\n",
    "avg_reading_score"
   ]
  },
  {
   "cell_type": "code",
   "execution_count": 12,
   "metadata": {},
   "outputs": [
    {
     "data": {
      "text/plain": [
       "80.43160582078121"
      ]
     },
     "execution_count": 12,
     "metadata": {},
     "output_type": "execute_result"
    }
   ],
   "source": [
    "#Overall avg score\n",
    "overall_score = ((avg_reading_score)+(avg_math_score))/2\n",
    "\n",
    "overall_score"
   ]
  },
  {
   "cell_type": "code",
   "execution_count": 13,
   "metadata": {},
   "outputs": [
    {
     "data": {
      "text/plain": [
       "0.749808526933878"
      ]
     },
     "execution_count": 13,
     "metadata": {},
     "output_type": "execute_result"
    }
   ],
   "source": [
    "#Calculating a passing math score greated than 70\n",
    "passm = datadf['math_score'] >= 70\n",
    "#passm returns a list of boolean values\n",
    "#passmath sums the boolean values\n",
    "passmath = passm.sum()\n",
    "\n",
    "#divides number of students that passed by overall number of students\n",
    "passedmath = passmath/number_of_students\n",
    "\n",
    "#need to make into a percentage\n",
    "passedmath\n",
    "\n"
   ]
  },
  {
   "cell_type": "code",
   "execution_count": 14,
   "metadata": {},
   "outputs": [
    {
     "data": {
      "text/plain": [
       "0.8580546336482001"
      ]
     },
     "execution_count": 14,
     "metadata": {},
     "output_type": "execute_result"
    }
   ],
   "source": [
    "#Calculating a passing reading score\n",
    "passr = datadf['reading_score'] >= 70 \n",
    "#returns boolean values\n",
    "#passread sums the boolean values\n",
    "passread = passr.sum()\n",
    "#calculating the percentage\n",
    "passedread = passread/ number_of_students\n",
    "\n",
    "passedread\n"
   ]
  },
  {
   "cell_type": "code",
   "execution_count": 16,
   "metadata": {
    "scrolled": true
   },
   "outputs": [
    {
     "data": {
      "text/html": [
       "<div>\n",
       "<style scoped>\n",
       "    .dataframe tbody tr th:only-of-type {\n",
       "        vertical-align: middle;\n",
       "    }\n",
       "\n",
       "    .dataframe tbody tr th {\n",
       "        vertical-align: top;\n",
       "    }\n",
       "\n",
       "    .dataframe thead th {\n",
       "        text-align: right;\n",
       "    }\n",
       "</style>\n",
       "<table border=\"1\" class=\"dataframe\">\n",
       "  <thead>\n",
       "    <tr style=\"text-align: right;\">\n",
       "      <th></th>\n",
       "      <th>Total Schools</th>\n",
       "      <th>Total Students</th>\n",
       "      <th>Total Budget</th>\n",
       "      <th>Average Math Score</th>\n",
       "      <th>Average Reading Score</th>\n",
       "      <th>% Passing Math</th>\n",
       "      <th>% Passing Reading</th>\n",
       "      <th>% Overall Passing Rate</th>\n",
       "    </tr>\n",
       "  </thead>\n",
       "  <tbody>\n",
       "    <tr>\n",
       "      <th>0</th>\n",
       "      <td>15</td>\n",
       "      <td>39,170</td>\n",
       "      <td>24,649,428</td>\n",
       "      <td>78.99</td>\n",
       "      <td>81.88</td>\n",
       "      <td>74.98</td>\n",
       "      <td>85.81</td>\n",
       "      <td>8043.16</td>\n",
       "    </tr>\n",
       "  </tbody>\n",
       "</table>\n",
       "</div>"
      ],
      "text/plain": [
       "   Total Schools Total Students Total Budget  Average Math Score  \\\n",
       "0             15         39,170   24,649,428               78.99   \n",
       "\n",
       "   Average Reading Score  % Passing Math  % Passing Reading  \\\n",
       "0                  81.88           74.98              85.81   \n",
       "\n",
       "   % Overall Passing Rate  \n",
       "0                 8043.16  "
      ]
     },
     "execution_count": 16,
     "metadata": {},
     "output_type": "execute_result"
    }
   ],
   "source": [
    "#Summary Table\n",
    "#Need to format!\n",
    "pd.set_option('display.precision',2)\n",
    "\n",
    "district_summary = pd.DataFrame({\"Total Schools\": num_of_schools,\n",
    "                                'Total Students': number_of_students,\n",
    "                                'Total Budget': totalbudget,\n",
    "                                'Average Math Score': avg_math_score,\n",
    "                                'Average Reading Score': avg_reading_score,\n",
    "                                '% Passing Math': passedmath *100,\n",
    "                                '% Passing Reading': passedread *100,\n",
    "                                '% Overall Passing Rate': overall_score* 100},\n",
    "                               index = [0])\n",
    "\n",
    "district_summary['Total Students'] = district_summary['Total Students'].map(\"{:,}\".format)\n",
    "district_summary['Total Budget'] = district_summary['Total Budget'].map(\"{:,}\".format)\n",
    "\n",
    "\n",
    "district_summary"
   ]
  },
  {
   "cell_type": "markdown",
   "metadata": {},
   "source": [
    "# Start of School Summary"
   ]
  },
  {
   "cell_type": "code",
   "execution_count": null,
   "metadata": {},
   "outputs": [],
   "source": [
    " a = schoolgroups[['size']].first()\n"
   ]
  },
  {
   "cell_type": "code",
   "execution_count": null,
   "metadata": {},
   "outputs": [],
   "source": [
    "#trying to isolate school budget \n",
    "\n",
    "datadf['budgetperstudent'] = datadf['budget'] / datadf['size']\n",
    "\n",
    "datadf.head()\n",
    "\n",
    "#need to add to main dataframe"
   ]
  },
  {
   "cell_type": "code",
   "execution_count": null,
   "metadata": {},
   "outputs": [],
   "source": [
    "# budget per student!\n",
    "# works, is a series and able to be input into dataframe!!\n",
    "schoolbudgetperstudents = datadf.groupby('school_name').budgetperstudent.mean()\n",
    "\n",
    "type(schoolbudgetperstudents)"
   ]
  },
  {
   "cell_type": "code",
   "execution_count": null,
   "metadata": {
    "scrolled": true
   },
   "outputs": [],
   "source": [
    "#type of school\n",
    "#the first command!!!!\n",
    "# by putting the first command with the groupby, rendered a series instead of agg \n",
    "schooltypes = datadf.groupby('school_name').type.first()\n",
    "\n",
    "schooltypes\n",
    "\n",
    "type(schooltypes)"
   ]
  },
  {
   "cell_type": "code",
   "execution_count": null,
   "metadata": {},
   "outputs": [],
   "source": [
    "#average math scores by school\n",
    "\n",
    "schoolmath = datadf.groupby('school_name').math_score.mean()\n",
    "\n",
    "schoolmath"
   ]
  },
  {
   "cell_type": "code",
   "execution_count": null,
   "metadata": {},
   "outputs": [],
   "source": [
    "# trying to find percentage of student body that passes test\n",
    "#adding a new column to the grouped function to try and get the percent\n",
    "datadf['mathpass'] = datadf.loc[:,'math_score'] >= 70\n",
    "\n",
    "datadf.head()\n",
    "\n",
    "\n",
    "#schoolmathpasses= mathpasses.groupby('school_name')\n",
    "\n",
    "#overallpassmath = schoolmathpasses['size'] / schoolgroups['size']\n"
   ]
  },
  {
   "cell_type": "code",
   "execution_count": null,
   "metadata": {},
   "outputs": [],
   "source": [
    "mattpassschool = datadf.groupby('school_name')\n",
    "# % passing math\n",
    "\n",
    "percpassmath = mattpassschool['mathpass'].mean()\n",
    "\n",
    "type(percpassmath)\n",
    "\n"
   ]
  },
  {
   "cell_type": "code",
   "execution_count": null,
   "metadata": {},
   "outputs": [],
   "source": [
    "#calc percentage of students that passed reading exam\n",
    "# created boolean values for students that scored higher than 70 and created a new column for it\n",
    "datadf['readpass'] = datadf.loc[:,'reading_score'] >= 70\n",
    "\n"
   ]
  },
  {
   "cell_type": "code",
   "execution_count": null,
   "metadata": {
    "scrolled": true
   },
   "outputs": [],
   "source": [
    "#calculating the mean of the column by school\n",
    "percpassread = datadf.groupby('school_name').readpass.mean()\n",
    "\n",
    "percpassread"
   ]
  },
  {
   "cell_type": "code",
   "execution_count": null,
   "metadata": {},
   "outputs": [],
   "source": [
    "# overall pass average, an average of the percpassread + percpassmath/2\n",
    "\n",
    "percpassoverall = (percpassread + percpassmath)/2\n",
    "\n"
   ]
  },
  {
   "cell_type": "code",
   "execution_count": null,
   "metadata": {},
   "outputs": [],
   "source": [
    "#school budget!!\n",
    "schoolbudget = datadf.groupby('school_name').budget.first()\n",
    "    \n"
   ]
  },
  {
   "cell_type": "code",
   "execution_count": null,
   "metadata": {},
   "outputs": [],
   "source": [
    "#average reading scores by school\n",
    "avgschoolread = datadf.groupby('school_name').reading_score.mean()\n",
    "\n"
   ]
  },
  {
   "cell_type": "code",
   "execution_count": null,
   "metadata": {},
   "outputs": [],
   "source": [
    "#total number of students per school\n",
    "studentsperschool = schoolgroups['Student ID'].count()\n",
    "\n"
   ]
  },
  {
   "cell_type": "code",
   "execution_count": null,
   "metadata": {},
   "outputs": [],
   "source": [
    "type(studentsperschool)"
   ]
  },
  {
   "cell_type": "code",
   "execution_count": null,
   "metadata": {},
   "outputs": [],
   "source": [
    "#starting the summary table\n",
    "#not working...\n",
    "#have to pass in a SERIES to the data frame!!!!!!!!!\n",
    "#need to format, can do that later\n",
    "pd.set_option('display.precision',2)\n",
    "schoolsummarytable = pd.DataFrame ({'School Type': schooltypes,\n",
    "                                    'Enrollment': studentsperschool,\n",
    "                                    'School Budget': schoolbudget,\n",
    "                                   'Budget Per Student': schoolbudgetperstudents,\n",
    "                                    'Average Math Score': schoolmath,\n",
    "                                   '% Passing Math':percpassmath * 100,\n",
    "                                   'Average Reading Score': avgschoolread,\n",
    "                                    '% Passing Reading': percpassread * 100,\n",
    "                                   '% Overall Passing Rate': percpassoverall *100})\n",
    "\n",
    "schoolsummarytable['School Budget'] = schoolsummarytable['School Budget'].map(\"{:,}\".format)\n",
    "\n",
    "\n",
    "schoolsummarytable"
   ]
  },
  {
   "cell_type": "markdown",
   "metadata": {},
   "source": [
    "# Top performing schools"
   ]
  },
  {
   "cell_type": "code",
   "execution_count": null,
   "metadata": {},
   "outputs": [],
   "source": [
    "#use the sort by function"
   ]
  },
  {
   "cell_type": "code",
   "execution_count": null,
   "metadata": {},
   "outputs": [],
   "source": [
    "bestschools = schoolsummarytable.sort_values('% Overall Passing Rate', ascending=False).head()\n",
    "worstschools = schoolsummarytable.sort_values('% Overall Passing Rate', ascending=False).tail()"
   ]
  },
  {
   "cell_type": "code",
   "execution_count": null,
   "metadata": {},
   "outputs": [],
   "source": [
    "bestschools"
   ]
  },
  {
   "cell_type": "code",
   "execution_count": null,
   "metadata": {},
   "outputs": [],
   "source": [
    "worstschools"
   ]
  },
  {
   "cell_type": "markdown",
   "metadata": {},
   "source": [
    "# Math Scores by grade"
   ]
  },
  {
   "cell_type": "code",
   "execution_count": null,
   "metadata": {},
   "outputs": [],
   "source": [
    "#create a list of the average math scores by grade\n",
    "#ninth graders\n",
    "ninthgrade = datadf.loc[datadf['grade']== '9th',]\n",
    "\n",
    "mathnine = ninthgrade.groupby('school_name')\n",
    "\n",
    "mnine = mathnine['math_score'].mean()\n",
    "\n",
    "\n",
    "\n",
    "\n"
   ]
  },
  {
   "cell_type": "code",
   "execution_count": null,
   "metadata": {},
   "outputs": [],
   "source": [
    "#tenthgraders\n",
    "tenthgrade = datadf.loc[datadf['grade']=='10th',]\n",
    "\n",
    "mathtenth = tenthgrade.groupby('school_name')\n",
    "\n",
    "mten = mathtenth['math_score'].mean()"
   ]
  },
  {
   "cell_type": "code",
   "execution_count": null,
   "metadata": {},
   "outputs": [],
   "source": [
    "#eleventhgraders\n",
    "eleventhgrade = datadf.loc[datadf['grade']== '11th',]\n",
    "\n",
    "eleventhmath = eleventhgrade.groupby('school_name')\n",
    "\n",
    "meleven = eleventhmath['math_score'].mean()"
   ]
  },
  {
   "cell_type": "code",
   "execution_count": null,
   "metadata": {},
   "outputs": [],
   "source": [
    "#seniors!\n",
    "twelvegrade = datadf.loc[datadf['grade']=='12th']\n",
    "\n",
    "twelvemath = twelvegrade.groupby('school_name')\n",
    "\n",
    "mtwelve = twelvemath['math_score'].mean()"
   ]
  },
  {
   "cell_type": "code",
   "execution_count": null,
   "metadata": {},
   "outputs": [],
   "source": [
    "mathsummary = pd.DataFrame({'9th Grade': mnine,\n",
    "               '10th Grade': mten,\n",
    "               '11th Grade': meleven,\n",
    "               '12th Grade': mtwelve})\n",
    "\n",
    "mathsummary"
   ]
  },
  {
   "cell_type": "markdown",
   "metadata": {},
   "source": [
    "# Reading Score Summary"
   ]
  },
  {
   "cell_type": "code",
   "execution_count": null,
   "metadata": {},
   "outputs": [],
   "source": [
    "#Getting the average reading scores for ninth grade\n",
    "nine_df = datadf.loc[datadf['grade']=='9th']\n",
    "\n",
    "nine_score_read = nine_df.groupby('school_name')\n",
    "\n",
    "nine_read = nine_score_read['reading_score'].mean()\n",
    "\n",
    "nine_read\n"
   ]
  },
  {
   "cell_type": "code",
   "execution_count": null,
   "metadata": {},
   "outputs": [],
   "source": [
    "ten_df = datadf.loc[datadf['grade']=='10th']\n",
    "\n",
    "ten_score_read = ten_df.groupby('school_name')\n",
    "\n",
    "ten_read = ten_score_read['reading_score'].mean()\n",
    "\n",
    "ten_read"
   ]
  },
  {
   "cell_type": "code",
   "execution_count": null,
   "metadata": {},
   "outputs": [],
   "source": [
    "eleven_df = datadf.loc[datadf['grade']=='11th']\n",
    "\n",
    "eleven_score_read = eleven_df.groupby('school_name')\n",
    "\n",
    "eleven_read = eleven_score_read['reading_score'].mean()\n",
    "\n",
    "eleven_read"
   ]
  },
  {
   "cell_type": "code",
   "execution_count": null,
   "metadata": {},
   "outputs": [],
   "source": [
    "twelve_df = datadf.loc[datadf['grade']=='12th']\n",
    "\n",
    "twelve_score_read = twelve_df.groupby('school_name')\n",
    "\n",
    "twelve_read = twelve_score_read['reading_score'].mean()\n",
    "\n",
    "twelve_read"
   ]
  },
  {
   "cell_type": "code",
   "execution_count": null,
   "metadata": {},
   "outputs": [],
   "source": [
    "read_summary = pd.DataFrame({'9th Grade': nine_read,\n",
    "                            '10th Grade': ten_read,\n",
    "                            '11th Grade': eleven_read,\n",
    "                            '12th Grade': twelve_read})\n",
    "read_summary"
   ]
  },
  {
   "cell_type": "markdown",
   "metadata": {},
   "source": [
    "# Scores by School Spending!"
   ]
  },
  {
   "cell_type": "code",
   "execution_count": null,
   "metadata": {},
   "outputs": [],
   "source": [
    "#need to make dataframe with school budgets and other parameter(test scores) then input the cut info!\n",
    "#bins to set limits\n",
    "bins = [0, 585, 615, 645, 675]\n",
    "groups = [\"<$585\", \"$585-615\", \"$615-645\", \"$645-675\"]"
   ]
  },
  {
   "cell_type": "code",
   "execution_count": null,
   "metadata": {
    "scrolled": true
   },
   "outputs": [],
   "source": [
    "#cut the data and place it into bins\n",
    "pd.cut(schoolsummarytable['Budget Per Student'],bins, labels = groups).head()"
   ]
  },
  {
   "cell_type": "code",
   "execution_count": null,
   "metadata": {
    "scrolled": true
   },
   "outputs": [],
   "source": [
    "schoolspendingdf = pd.DataFrame({'Average Math Score': schoolmath,\n",
    "                                '% Passing Math':percpassmath *100,\n",
    "                                'Average Reading Score': avgschoolread,\n",
    "                                '% Passing Reading': percpassread *100,\n",
    "                                '% Overall Passing Rate': percpassoverall *100})\n",
    "schoolspendingdf"
   ]
  },
  {
   "cell_type": "code",
   "execution_count": null,
   "metadata": {},
   "outputs": [],
   "source": [
    "#need to have spending rangegs be the primary group by instead of school_name\n",
    "#insert into data df as a column\n",
    "#then groupby that column ie datadf.groupby('Spending_Range') then can call first to create a series \n",
    "schoolspendingdf['SpendingRanges'] = pd.cut(schoolsummarytable['Budget Per Student'],bins, labels = groups)\n",
    "\n",
    "schoolspendingdf"
   ]
  },
  {
   "cell_type": "code",
   "execution_count": null,
   "metadata": {},
   "outputs": [],
   "source": [
    "#had to go through same process as by assemblign by grade table \n",
    "group585 = schoolspendingdf.loc[schoolspendingdf['SpendingRanges'] == '<$585']\n",
    "#dont even need to groupby school, since already grouping by bin range\n",
    "avgmath585 = group585['Average Math Score'].mean()\n",
    "\n",
    "#average math score for schools with less than $585 per students\n",
    "avgmath585\n",
    "\n"
   ]
  },
  {
   "cell_type": "code",
   "execution_count": null,
   "metadata": {},
   "outputs": [],
   "source": [
    "avgread585 = group585['Average Reading Score'].mean()\n",
    "\n",
    "avgread585"
   ]
  },
  {
   "cell_type": "code",
   "execution_count": null,
   "metadata": {},
   "outputs": [],
   "source": [
    "percpassmath585  = group585['% Passing Math'].mean()\n",
    "\n",
    "percpassmath585 *100"
   ]
  },
  {
   "cell_type": "code",
   "execution_count": null,
   "metadata": {},
   "outputs": [],
   "source": [
    "percpassread585 = group585['% Passing Reading'].mean()\n",
    "\n",
    "percpassread585 *100"
   ]
  },
  {
   "cell_type": "code",
   "execution_count": null,
   "metadata": {},
   "outputs": [],
   "source": [
    "percpassoveral2 =  group585['% Overall Passing Rate'].mean()"
   ]
  },
  {
   "cell_type": "code",
   "execution_count": null,
   "metadata": {},
   "outputs": [],
   "source": [
    "#Actual answer, dont need to group by school name\n",
    "group615 = schoolspendingdf.loc[schoolspendingdf['SpendingRanges'] == '$615-645']\n",
    "\n",
    "spend615 = group615['Average Math Score'].mean()\n",
    "\n",
    "#spend615math = spend615['Average Math Score'].mean()\n",
    "\n",
    "#spend615math\n",
    "\n",
    "spend615"
   ]
  },
  {
   "cell_type": "code",
   "execution_count": null,
   "metadata": {},
   "outputs": [],
   "source": [
    "#dont think that works \n",
    "binindex = schoolspendingdf.set_index('SpendingRanges')\n",
    "#set the index as spending rangesssss!!\n",
    "\n",
    "mathmeanbin = binindex.groupby('SpendingRanges')['Average Math Score'].mean()\n",
    "\n",
    "mmb = mathmeanbin.to_frame()"
   ]
  },
  {
   "cell_type": "code",
   "execution_count": null,
   "metadata": {},
   "outputs": [],
   "source": [
    "readmeanbin = binindex.groupby('SpendingRanges')['Average Reading Score'].mean()\n",
    "\n",
    "rmb = readmeanbin.to_frame()"
   ]
  },
  {
   "cell_type": "code",
   "execution_count": null,
   "metadata": {},
   "outputs": [],
   "source": [
    "passmathbin = binindex.groupby('SpendingRanges')['% Passing Math'].mean()\n",
    "\n",
    "pmb = passmathbin.to_frame()\n",
    "\n"
   ]
  },
  {
   "cell_type": "code",
   "execution_count": null,
   "metadata": {},
   "outputs": [],
   "source": [
    "passreadbin = binindex.groupby('SpendingRanges')['% Passing Reading'].mean()\n",
    "\n",
    "prb  = passreadbin.to_frame()\n",
    "\n",
    "prb *100"
   ]
  },
  {
   "cell_type": "code",
   "execution_count": null,
   "metadata": {},
   "outputs": [],
   "source": [
    "overallpassbin = binindex.groupby('SpendingRanges')['% Overall Passing Rate'].mean()\n",
    "\n",
    "opb = overallpassbin.to_frame()"
   ]
  },
  {
   "cell_type": "code",
   "execution_count": null,
   "metadata": {},
   "outputs": [],
   "source": [
    "spendingbindf= pd.DataFrame = ({#'Average Math Score': mathmeanbin,\n",
    "                               'Average Reading Score': rmb,\n",
    "                               '% Passing Math': pmb })\n",
    "                               #'% Passing Reading': passreadbin,\n",
    "                               #'% Overall Passing Rate': overallpassbin})"
   ]
  },
  {
   "cell_type": "code",
   "execution_count": null,
   "metadata": {},
   "outputs": [],
   "source": [
    "tryagain = pd.merge(mmb,rmb,  on = 'SpendingRanges' )\n",
    "\n",
    "tryagain1 = pd.merge(tryagain, pmb , on= 'SpendingRanges')\n",
    "tryagain2 = pd.merge(tryagain1, prb , on ='SpendingRanges')\n",
    "\n",
    "spendinsdf = pd.merge(tryagain2, opb, on ='SpendingRanges')\n",
    "\n",
    "\n"
   ]
  },
  {
   "cell_type": "code",
   "execution_count": null,
   "metadata": {
    "scrolled": true
   },
   "outputs": [],
   "source": [
    "spendinsdf"
   ]
  },
  {
   "cell_type": "markdown",
   "metadata": {},
   "source": [
    "# Scores by School Size"
   ]
  },
  {
   "cell_type": "code",
   "execution_count": null,
   "metadata": {},
   "outputs": [],
   "source": [
    "#bins for limits\n",
    "size_bins = [0, 1000, 2000, 5000]\n",
    "group_names = [\"Small (<1000)\", \"Medium (1000-2000)\", \"Large (2000-5000)\"]"
   ]
  },
  {
   "cell_type": "code",
   "execution_count": null,
   "metadata": {},
   "outputs": [],
   "source": [
    "#pd.cut(schoolsummarytable['Enrollment'], size_bins, labels = group_names).head()\n",
    "b = [a]\n",
    "b\n",
    "#int(float('Enrollment'))"
   ]
  },
  {
   "cell_type": "code",
   "execution_count": null,
   "metadata": {},
   "outputs": [],
   "source": [
    "schoolspendingdf['SchoolSize'] = pd.cut(schoolsummarytable['Enrollment'], size_bins, labels = group_names)"
   ]
  },
  {
   "cell_type": "code",
   "execution_count": null,
   "metadata": {},
   "outputs": [],
   "source": [
    "schoolsizedf = schoolspendingdf.drop(columns ='SpendingRanges')"
   ]
  },
  {
   "cell_type": "code",
   "execution_count": null,
   "metadata": {},
   "outputs": [],
   "source": [
    "schoolsizedf.set_index('SchoolSize')"
   ]
  },
  {
   "cell_type": "code",
   "execution_count": null,
   "metadata": {},
   "outputs": [],
   "source": [
    "sizeavgmath = schoolsizedf.groupby('SchoolSize')['Average Math Score'].mean()\n",
    "\n",
    "sam = sizeavgmath.to_frame()"
   ]
  },
  {
   "cell_type": "code",
   "execution_count": null,
   "metadata": {},
   "outputs": [],
   "source": [
    "sizeavgread = schoolsizedf.groupby('SchoolSize')['Average Reading Score'].mean()\n",
    "\n",
    "sar = sizeavgread.to_frame()"
   ]
  },
  {
   "cell_type": "code",
   "execution_count": null,
   "metadata": {},
   "outputs": [],
   "source": [
    "sizepassmath = schoolsizedf.groupby('SchoolSize')['% Passing Math'].mean()\n",
    "\n",
    "spm = sizepassmath.to_frame()"
   ]
  },
  {
   "cell_type": "code",
   "execution_count": null,
   "metadata": {},
   "outputs": [],
   "source": [
    "sizepassread = schoolsizedf.groupby('SchoolSize')['% Passing Reading'].mean()\n",
    "\n",
    "spr = sizepassread.to_frame()"
   ]
  },
  {
   "cell_type": "code",
   "execution_count": null,
   "metadata": {},
   "outputs": [],
   "source": [
    "sizepassoverall = schoolsizedf.groupby('SchoolSize')['% Overall Passing Rate'].mean()\n",
    "\n",
    "spo = sizepassoverall.to_frame()"
   ]
  },
  {
   "cell_type": "code",
   "execution_count": null,
   "metadata": {},
   "outputs": [],
   "source": [
    "size1df = pd.merge(sam, sar, on= 'SchoolSize')\n",
    "size2df = pd.merge(size1df, spm, on = 'SchoolSize')\n",
    "size3df = pd.merge(size2df, spr, on= 'SchoolSize')\n",
    "\n",
    "scoresbysizedf = pd.merge(size3df, spo, on = 'SchoolSize')"
   ]
  },
  {
   "cell_type": "code",
   "execution_count": null,
   "metadata": {},
   "outputs": [],
   "source": [
    "scoresbysizedf"
   ]
  },
  {
   "cell_type": "markdown",
   "metadata": {},
   "source": [
    "# Scores by School Type"
   ]
  },
  {
   "cell_type": "code",
   "execution_count": null,
   "metadata": {},
   "outputs": [],
   "source": [
    "schooltypescore = schoolsummarytable.set_index('School Type')"
   ]
  },
  {
   "cell_type": "code",
   "execution_count": null,
   "metadata": {},
   "outputs": [],
   "source": [
    "schooltype = schooltypescore.drop(columns = ['Enrollment', 'Budget Per Student'])"
   ]
  },
  {
   "cell_type": "code",
   "execution_count": null,
   "metadata": {},
   "outputs": [],
   "source": [
    "schooltypegroup = schooltype.groupby('School Type')"
   ]
  },
  {
   "cell_type": "code",
   "execution_count": null,
   "metadata": {},
   "outputs": [],
   "source": [
    "typemathscore = schooltypegroup['Average Math Score'].mean()\n",
    "\n",
    "tms = typemathscore.to_frame()"
   ]
  },
  {
   "cell_type": "code",
   "execution_count": null,
   "metadata": {},
   "outputs": [],
   "source": [
    "typereadscore = schooltypegroup['Average Reading Score'].mean()\n",
    "\n",
    "trs = typereadscore.to_frame()\n"
   ]
  },
  {
   "cell_type": "code",
   "execution_count": null,
   "metadata": {},
   "outputs": [],
   "source": [
    "typemathpercscore = schooltypegroup['% Passing Math'].mean()\n",
    "\n",
    "tmps = typemathpercscore.to_frame()"
   ]
  },
  {
   "cell_type": "code",
   "execution_count": null,
   "metadata": {},
   "outputs": [],
   "source": [
    "typereadpercscore = schooltypegroup['% Passing Reading'].mean()\n",
    "\n",
    "trps = typereadpercscore.to_frame()"
   ]
  },
  {
   "cell_type": "code",
   "execution_count": null,
   "metadata": {},
   "outputs": [],
   "source": [
    "typeoverall = schooltypegroup['% Overall Passing Rate'].mean()\n",
    "\n",
    "toa = typeoverall.to_frame()"
   ]
  },
  {
   "cell_type": "code",
   "execution_count": null,
   "metadata": {},
   "outputs": [],
   "source": [
    "type1df = pd.merge(tms, trs, on= 'School Type')\n",
    "type2df = pd.merge(type1df, tmps, on = 'School Type')\n",
    "type3df = pd.merge(type2df, trps, on= 'School Type')\n",
    "\n",
    "scorebytypedf = pd.merge(type3df, toa, on = 'School Type')"
   ]
  },
  {
   "cell_type": "code",
   "execution_count": null,
   "metadata": {},
   "outputs": [],
   "source": [
    "scorebytypedf"
   ]
  },
  {
   "cell_type": "code",
   "execution_count": null,
   "metadata": {},
   "outputs": [],
   "source": []
  }
 ],
 "metadata": {
  "kernelspec": {
   "display_name": "Python 3",
   "language": "python",
   "name": "python3"
  },
  "language_info": {
   "codemirror_mode": {
    "name": "ipython",
    "version": 3
   },
   "file_extension": ".py",
   "mimetype": "text/x-python",
   "name": "python",
   "nbconvert_exporter": "python",
   "pygments_lexer": "ipython3",
   "version": "3.6.6"
  }
 },
 "nbformat": 4,
 "nbformat_minor": 2
}
